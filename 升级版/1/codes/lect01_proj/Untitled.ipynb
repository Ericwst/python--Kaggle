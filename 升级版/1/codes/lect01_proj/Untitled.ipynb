{
 "cells": [
  {
   "cell_type": "code",
   "execution_count": 3,
   "metadata": {
    "collapsed": true
   },
   "outputs": [],
   "source": [
    "import pandas as pd\n",
    "\n",
    "data = pd.read_csv('survey.csv')\n",
    "\n",
    "country = data['Country']\n",
    "age = data['Age']\n",
    "\n",
    "def fun(country,age):\n",
    "\n",
    "    keys = []\n",
    "    values = []\n",
    "    c = set(country)\n",
    "    d = zip(country,age)\n",
    "    \n",
    "    for j in c:\n",
    "        add=[]\n",
    "        for i in xrange(len(d)):\n",
    "            if d[i][0]==j:\n",
    "                add.append(d[i][1])\n",
    "            else:\n",
    "                continue\n",
    "        sum = 0\n",
    "        for k in add:\n",
    "            sum += k\n",
    "        average = float(sum)/len(add)\n",
    "        keys.append(j)\n",
    "        values.append(average)\n",
    "    return dict(zip(keys,values))"
   ]
  },
  {
   "cell_type": "code",
   "execution_count": 4,
   "metadata": {
    "collapsed": false
   },
   "outputs": [
    {
     "data": {
      "text/plain": [
       "{'Australia': 29.0,\n",
       " 'Austria': 26.666666666666668,\n",
       " 'Bahamas, The': 8.0,\n",
       " 'Belgium': 29.5,\n",
       " 'Bosnia and Herzegovina': 25.0,\n",
       " 'Brazil': 27.333333333333332,\n",
       " 'Bulgaria': 28.25,\n",
       " 'Canada': 29.319444444444443,\n",
       " 'China': 40.0,\n",
       " 'Colombia': 27.0,\n",
       " 'Costa Rica': 38.0,\n",
       " 'Croatia': 38.0,\n",
       " 'Czech Republic': 33.0,\n",
       " 'Denmark': 35.0,\n",
       " 'Finland': 29.333333333333332,\n",
       " 'France': 31.53846153846154,\n",
       " 'Georgia': 20.0,\n",
       " 'Germany': 30.42222222222222,\n",
       " 'Greece': 36.5,\n",
       " 'Hungary': 27.0,\n",
       " 'India': 24.5,\n",
       " 'Ireland': 31.925925925925927,\n",
       " 'Israel': 25.0,\n",
       " 'Italy': 33.42857142857143,\n",
       " 'Japan': 49.0,\n",
       " 'Latvia': 29.0,\n",
       " 'Mexico': 34.333333333333336,\n",
       " 'Moldova': 26.0,\n",
       " 'Netherlands': 31.88888888888889,\n",
       " 'New Zealand': 34.5,\n",
       " 'Nigeria': 25.0,\n",
       " 'Norway': 33.0,\n",
       " 'Philippines': 31.0,\n",
       " 'Poland': 30.428571428571427,\n",
       " 'Portugal': 32.5,\n",
       " 'Romania': 29.0,\n",
       " 'Russia': 24.0,\n",
       " 'Singapore': 34.25,\n",
       " 'Slovenia': 19.0,\n",
       " 'South Africa': 36.0,\n",
       " 'Spain': 30.0,\n",
       " 'Sweden': 26.857142857142858,\n",
       " 'Switzerland': 29.857142857142858,\n",
       " 'Thailand': 40.0,\n",
       " 'United Kingdom': 21.443243243243245,\n",
       " 'United States': 33.328894806924104,\n",
       " 'Uruguay': 26.0,\n",
       " 'Zimbabwe': 99999999999.0}"
      ]
     },
     "execution_count": 4,
     "metadata": {},
     "output_type": "execute_result"
    }
   ],
   "source": [
    "fun(country,age)"
   ]
  },
  {
   "cell_type": "code",
   "execution_count": null,
   "metadata": {
    "collapsed": true
   },
   "outputs": [],
   "source": []
  }
 ],
 "metadata": {
  "anaconda-cloud": {},
  "kernelspec": {
   "display_name": "Python [conda root]",
   "language": "python",
   "name": "conda-root-py"
  },
  "language_info": {
   "codemirror_mode": {
    "name": "ipython",
    "version": 2
   },
   "file_extension": ".py",
   "mimetype": "text/x-python",
   "name": "python",
   "nbconvert_exporter": "python",
   "pygments_lexer": "ipython2",
   "version": "2.7.12"
  }
 },
 "nbformat": 4,
 "nbformat_minor": 1
}
