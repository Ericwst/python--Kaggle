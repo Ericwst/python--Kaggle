{
 "cells": [
  {
   "cell_type": "markdown",
   "metadata": {},
   "source": [
    "# SQLite 基本操作"
   ]
  },
  {
   "cell_type": "markdown",
   "metadata": {},
   "source": [
    "* 连接数据库"
   ]
  },
  {
   "cell_type": "code",
   "execution_count": 45,
   "metadata": {
    "collapsed": true
   },
   "outputs": [],
   "source": [
    "import sqlite3\n",
    "\n",
    "db_path = './files/test.sqlite'\n",
    "\n",
    "conn = sqlite3.connect(db_path)\n",
    "cur = conn.cursor()\n",
    "conn.text_factory = str  # 处理中文"
   ]
  },
  {
   "cell_type": "markdown",
   "metadata": {},
   "source": [
    "* 获取基本信息"
   ]
  },
  {
   "cell_type": "code",
   "execution_count": 12,
   "metadata": {
    "collapsed": false
   },
   "outputs": [
    {
     "name": "stdout",
     "output_type": "stream",
     "text": [
      "SQLite版本：3.8.11\n"
     ]
    }
   ],
   "source": [
    "cur.execute('SELECT SQLITE_VERSION()')\n",
    "\n",
    "print 'SQLite版本：%s' %str(cur.fetchone()[0])"
   ]
  },
  {
   "cell_type": "markdown",
   "metadata": {},
   "source": [
    "* 逐条插入数据"
   ]
  },
  {
   "cell_type": "code",
   "execution_count": 41,
   "metadata": {
    "collapsed": false
   },
   "outputs": [
    {
     "data": {
      "text/plain": [
       "<sqlite3.Cursor at 0x4a55f80>"
      ]
     },
     "execution_count": 41,
     "metadata": {},
     "output_type": "execute_result"
    }
   ],
   "source": [
    "cur.execute(\"DROP TABLE IF EXISTS book\")\n",
    "cur.execute(\"CREATE TABLE book(id INT, name TEXT, price DOUBLE)\")\n",
    "cur.execute(\"INSERT INTO book VALUES(1,'肖秀荣考研书系列:肖秀荣(2017)考研政治命题人终极预测4套卷',14.40)\")\n",
    "cur.execute(\"INSERT INTO book VALUES(2,'法医秦明作品集:幸存者+清道夫+尸语者+无声的证词+第十一根手指(套装共5册) (两种封面随机发货)',100.00)\")\n",
    "cur.execute(\"INSERT INTO book VALUES(3,'活着本来单纯:丰子恺散文漫画精品集(收藏本)',30.90)\")\n",
    "cur.execute(\"INSERT INTO book VALUES(4,'自在独行:贾平凹的独行世界',26.80)\")\n",
    "cur.execute(\"INSERT INTO book VALUES(5,'当你的才华还撑不起你的梦想时',23.00)\")\n",
    "cur.execute(\"INSERT INTO book VALUES(6,'巨人的陨落(套装共3册)',84.90)\")\n",
    "cur.execute(\"INSERT INTO book VALUES(7,'孤独深处(收录雨果奖获奖作品《北京折叠》)',21.90)\")\n",
    "cur.execute(\"INSERT INTO book VALUES(8,'世界知名企业员工指定培训教材:所谓情商高,就是会说话',22.00)\")"
   ]
  },
  {
   "cell_type": "markdown",
   "metadata": {},
   "source": [
    "* 批量插入数据"
   ]
  },
  {
   "cell_type": "code",
   "execution_count": 42,
   "metadata": {
    "collapsed": false
   },
   "outputs": [
    {
     "data": {
      "text/plain": [
       "<sqlite3.Cursor at 0x4a55f80>"
      ]
     },
     "execution_count": 42,
     "metadata": {},
     "output_type": "execute_result"
    }
   ],
   "source": [
    "books = (\n",
    "    (9, '人间草木', 30.00),\n",
    "    (10,'你的善良必须有点锋芒', 20.50),\n",
    "    (11, '这么慢,那么美', 24.80),\n",
    "    (12, '考拉小巫的英语学习日记:写给为梦想而奋斗的人(全新修订版)', 23.90)\n",
    ")\n",
    "cur.executemany(\"INSERT INTO book VALUES(?, ?, ?)\", books)"
   ]
  },
  {
   "cell_type": "code",
   "execution_count": 43,
   "metadata": {
    "collapsed": true
   },
   "outputs": [],
   "source": [
    "conn.commit()"
   ]
  },
  {
   "cell_type": "markdown",
   "metadata": {},
   "source": [
    "* 查找数据"
   ]
  },
  {
   "cell_type": "code",
   "execution_count": 33,
   "metadata": {
    "collapsed": false
   },
   "outputs": [
    {
     "name": "stdout",
     "output_type": "stream",
     "text": [
      "序号: 1, 书名: 肖秀荣考研书系列:肖秀荣(2017)考研政治命题人终极预测4套卷, 价格: 14.40\n",
      "序号: 2, 书名: 法医秦明作品集:幸存者+清道夫+尸语者+无声的证词+第十一根手指(套装共5册) (两种封面随机发货), 价格: 100.00\n",
      "序号: 3, 书名: 活着本来单纯:丰子恺散文漫画精品集(收藏本), 价格: 30.90\n",
      "序号: 4, 书名: 自在独行:贾平凹的独行世界, 价格: 26.80\n",
      "序号: 5, 书名: 当你的才华还撑不起你的梦想时, 价格: 23.00\n",
      "序号: 6, 书名: 巨人的陨落(套装共3册), 价格: 84.90\n",
      "序号: 7, 书名: 孤独深处(收录雨果奖获奖作品《北京折叠》), 价格: 21.90\n",
      "序号: 8, 书名: 世界知名企业员工指定培训教材:所谓情商高,就是会说话, 价格: 22.00\n",
      "序号: 9, 书名: 人间草木, 价格: 30.00\n",
      "序号: 10, 书名: 你的善良必须有点锋芒, 价格: 20.50\n",
      "序号: 11, 书名: 这么慢,那么美, 价格: 24.80\n",
      "序号: 12, 书名: 考拉小巫的英语学习日记:写给为梦想而奋斗的人(全新修订版), 价格: 23.90\n"
     ]
    }
   ],
   "source": [
    "cur.execute('SELECT * FROM book')\n",
    "rows = cur.fetchall()\n",
    "\n",
    "# 通过索引号访问\n",
    "for row in rows:\n",
    "    print '序号: %i, 书名: %s, 价格: %.2f' %(row[0], row[1], row[2])"
   ]
  },
  {
   "cell_type": "code",
   "execution_count": 46,
   "metadata": {
    "collapsed": false
   },
   "outputs": [
    {
     "name": "stdout",
     "output_type": "stream",
     "text": [
      "序号: 1, 书名: 肖秀荣考研书系列:肖秀荣(2017)考研政治命题人终极预测4套卷, 价格: 14.40\n",
      "序号: 2, 书名: 法医秦明作品集:幸存者+清道夫+尸语者+无声的证词+第十一根手指(套装共5册) (两种封面随机发货), 价格: 100.00\n",
      "序号: 3, 书名: 活着本来单纯:丰子恺散文漫画精品集(收藏本), 价格: 30.90\n",
      "序号: 4, 书名: 自在独行:贾平凹的独行世界, 价格: 26.80\n",
      "序号: 5, 书名: 当你的才华还撑不起你的梦想时, 价格: 23.00\n",
      "序号: 6, 书名: 巨人的陨落(套装共3册), 价格: 84.90\n",
      "序号: 7, 书名: 孤独深处(收录雨果奖获奖作品《北京折叠》), 价格: 21.90\n",
      "序号: 8, 书名: 世界知名企业员工指定培训教材:所谓情商高,就是会说话, 价格: 22.00\n",
      "序号: 9, 书名: 人间草木, 价格: 30.00\n",
      "序号: 10, 书名: 你的善良必须有点锋芒, 价格: 20.50\n",
      "序号: 11, 书名: 这么慢,那么美, 价格: 24.80\n",
      "序号: 12, 书名: 考拉小巫的英语学习日记:写给为梦想而奋斗的人(全新修订版), 价格: 23.90\n"
     ]
    }
   ],
   "source": [
    "conn.row_factory = sqlite3.Row\n",
    "cur = conn.cursor() \n",
    "cur.execute('SELECT * FROM book')\n",
    "rows = cur.fetchall()\n",
    "\n",
    "# 通过列名访问\n",
    "for row in rows:\n",
    "    print '序号: %i, 书名: %s, 价格: %.2f' %(row['id'], row['name'], row['price'])"
   ]
  },
  {
   "cell_type": "code",
   "execution_count": 48,
   "metadata": {
    "collapsed": true
   },
   "outputs": [],
   "source": [
    "conn.close()"
   ]
  },
  {
   "cell_type": "code",
   "execution_count": null,
   "metadata": {
    "collapsed": true
   },
   "outputs": [],
   "source": []
  }
 ],
 "metadata": {
  "kernelspec": {
   "display_name": "Python [conda root]",
   "language": "python",
   "name": "conda-root-py"
  },
  "language_info": {
   "codemirror_mode": {
    "name": "ipython",
    "version": 2
   },
   "file_extension": ".py",
   "mimetype": "text/x-python",
   "name": "python",
   "nbconvert_exporter": "python",
   "pygments_lexer": "ipython2",
   "version": "2.7.12"
  }
 },
 "nbformat": 4,
 "nbformat_minor": 1
}
