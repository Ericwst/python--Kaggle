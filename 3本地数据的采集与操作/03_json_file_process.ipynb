{
 "cells": [
  {
   "cell_type": "markdown",
   "metadata": {},
   "source": [
    "# JSON"
   ]
  },
  {
   "cell_type": "markdown",
   "metadata": {},
   "source": [
    "* 读取数据"
   ]
  },
  {
   "cell_type": "code",
   "execution_count": 14,
   "metadata": {
    "collapsed": false
   },
   "outputs": [
    {
     "name": "stdout",
     "output_type": "stream",
     "text": [
      "<type 'dict'>\n",
      "[u'data', u'description']\n"
     ]
    }
   ],
   "source": [
    "import json\n",
    "\n",
    "filename = './files/global_temperature.json'\n",
    "with open(filename, 'r') as f_obj:\n",
    "    json_data = json.load(f_obj)\n",
    "\n",
    "# 返回值是dict类型\n",
    "print type(json_data)"
   ]
  },
  {
   "cell_type": "code",
   "execution_count": 15,
   "metadata": {
    "collapsed": false
   },
   "outputs": [
    {
     "name": "stdout",
     "output_type": "stream",
     "text": [
      "[u'data', u'description']\n"
     ]
    }
   ],
   "source": [
    "print json_data.keys()"
   ]
  },
  {
   "cell_type": "markdown",
   "metadata": {},
   "source": [
    "* JSON 转 CSV"
   ]
  },
  {
   "cell_type": "code",
   "execution_count": 25,
   "metadata": {
    "collapsed": false
   },
   "outputs": [
    {
     "name": "stdout",
     "output_type": "stream",
     "text": [
      "[u'-0.0471', u'-0.0550', u'0.1549', u'0.1598', u'0.0927', u'0.1974', u'-0.0013', u'-0.0455', u'0.2948', u'0.1754', u'0.8990', u'0.7402', u'0.5759', u'0.7008', u'0.6687', u'0.6219', u'-0.1305', u'-0.1118', u'0.0538', u'-0.1945', u'-0.0095', u'-0.1579', u'0.0997', u'0.0288', u'0.0640', u'0.1145', u'-0.2152', u'-0.1517', u'-0.2318', u'-0.2161', u'-0.2510', u'-0.1464', u'-0.0618', u'-0.1506', u'-0.1749', u'-0.2982', u'-0.2481', u'-0.1214', u'-0.0714', u'-0.1016', u'-0.0204', u'-0.1173', u'-0.1445', u'-0.1075', u'-0.0157', u'-0.0318', u'-0.4441', u'-0.4332', u'-0.2208', u'-0.3767', u'-0.4240', u'-0.2967', u'-0.2535', u'-0.3442', u'-0.0704', u'-0.1471', u'0.2308', u'0.3710', u'0.1510', u'0.1357', u'0.1836', u'0.3429', u'0.2651', u'0.3024', u'0.3770', u'0.2982', u'-0.2082', u'-0.2118', u'-0.4367', u'-0.3862', u'-0.3205', u'-0.3318', u'-0.0747', u'-0.1444', u'-0.3193', u'-0.2979', u'0.4079', u'0.4350', u'0.2857', u'0.2583', u'0.4593', u'0.3420', u'0.5185', u'0.3225', u'0.4427', u'0.6335', u'-0.2578', u'-0.1172', u'-0.2828', u'-0.2279', u'-0.0971', u'-0.1232', u'-0.3233', u'-0.2552', u'-0.3079', u'-0.3221', u'-0.0282', u'0.0937', u'-0.1461', u'-0.0752', u'-0.0204', u'-0.0112', u'0.0252', u'0.0818', u'0.0924', u'0.1100', u'-0.1032', u'-0.1541', u'-0.2559', u'-0.2101', u'-0.2220', u'-0.2099', u'-0.1481', u'-0.0710', u'-0.0707', u'-0.1247', u'0.2288', u'0.1139', u'0.1996', u'-0.0769', u'0.0060', u'-0.0698', u'0.1654', u'0.0280', u'-0.0775', u'0.0383', u'0.6018', u'0.6145', u'0.4255', u'0.5455', u'0.6139', u'0.6113', u'0.5806', u'0.6583', u'0.5415', u'0.6354']\n"
     ]
    }
   ],
   "source": [
    "#print json_data['data'].keys()\n",
    "print json_data['data'].values()"
   ]
  },
  {
   "cell_type": "code",
   "execution_count": 24,
   "metadata": {
    "collapsed": false
   },
   "outputs": [
    {
     "name": "stdout",
     "output_type": "stream",
     "text": [
      "[1948, 1949, 1942, 1943, 1940, 1941, 1946, 1947, 1944, 1945, 2015, 2014, 2011, 2010, 2013, 2012, 1955, 1954, 1957, 1956, 1951, 1950, 1953, 1952, 1959, 1958, 1920, 1921, 1922, 1923, 1924, 1925, 1926, 1927, 1928, 1929, 1933, 1932, 1931, 1930, 1937, 1936, 1935, 1934, 1939, 1938, 1908, 1909, 1906, 1907, 1904, 1905, 1902, 1903, 1900, 1901, 1986, 1987, 1984, 1985, 1982, 1983, 1980, 1981, 1988, 1989, 1919, 1918, 1911, 1910, 1913, 1912, 1915, 1914, 1917, 1916, 1991, 1990, 1993, 1992, 1995, 1994, 1997, 1996, 1999, 1998, 1898, 1899, 1894, 1895, 1896, 1897, 1890, 1891, 1892, 1893, 1968, 1969, 1964, 1965, 1966, 1967, 1960, 1961, 1962, 1963, 1889, 1888, 1887, 1886, 1885, 1884, 1883, 1882, 1881, 1880, 1979, 1978, 1977, 1976, 1975, 1974, 1973, 1972, 1971, 1970, 2002, 2003, 2000, 2001, 2006, 2007, 2004, 2005, 2008, 2009]\n"
     ]
    }
   ],
   "source": [
    "# 转换key\n",
    "year_str_lst = json_data['data'].keys()\n",
    "year_lst = [int(year_str) for year_str in year_str_lst]\n",
    "print year_lst"
   ]
  },
  {
   "cell_type": "code",
   "execution_count": 26,
   "metadata": {
    "collapsed": false
   },
   "outputs": [
    {
     "name": "stdout",
     "output_type": "stream",
     "text": [
      "[-0.0471, -0.055, 0.1549, 0.1598, 0.0927, 0.1974, -0.0013, -0.0455, 0.2948, 0.1754, 0.899, 0.7402, 0.5759, 0.7008, 0.6687, 0.6219, -0.1305, -0.1118, 0.0538, -0.1945, -0.0095, -0.1579, 0.0997, 0.0288, 0.064, 0.1145, -0.2152, -0.1517, -0.2318, -0.2161, -0.251, -0.1464, -0.0618, -0.1506, -0.1749, -0.2982, -0.2481, -0.1214, -0.0714, -0.1016, -0.0204, -0.1173, -0.1445, -0.1075, -0.0157, -0.0318, -0.4441, -0.4332, -0.2208, -0.3767, -0.424, -0.2967, -0.2535, -0.3442, -0.0704, -0.1471, 0.2308, 0.371, 0.151, 0.1357, 0.1836, 0.3429, 0.2651, 0.3024, 0.377, 0.2982, -0.2082, -0.2118, -0.4367, -0.3862, -0.3205, -0.3318, -0.0747, -0.1444, -0.3193, -0.2979, 0.4079, 0.435, 0.2857, 0.2583, 0.4593, 0.342, 0.5185, 0.3225, 0.4427, 0.6335, -0.2578, -0.1172, -0.2828, -0.2279, -0.0971, -0.1232, -0.3233, -0.2552, -0.3079, -0.3221, -0.0282, 0.0937, -0.1461, -0.0752, -0.0204, -0.0112, 0.0252, 0.0818, 0.0924, 0.11, -0.1032, -0.1541, -0.2559, -0.2101, -0.222, -0.2099, -0.1481, -0.071, -0.0707, -0.1247, 0.2288, 0.1139, 0.1996, -0.0769, 0.006, -0.0698, 0.1654, 0.028, -0.0775, 0.0383, 0.6018, 0.6145, 0.4255, 0.5455, 0.6139, 0.6113, 0.5806, 0.6583, 0.5415, 0.6354]\n"
     ]
    }
   ],
   "source": [
    "# 转换value\n",
    "temp_str_lst = json_data['data'].values()\n",
    "temp_lst = [float(temp_str) for temp_str in temp_str_lst]\n",
    "print temp_lst"
   ]
  },
  {
   "cell_type": "code",
   "execution_count": 31,
   "metadata": {
    "collapsed": false
   },
   "outputs": [
    {
     "name": "stdout",
     "output_type": "stream",
     "text": [
      "   year  temperature\n",
      "0  1948      -0.0471\n",
      "1  1949      -0.0550\n",
      "2  1942       0.1549\n",
      "3  1943       0.1598\n",
      "4  1940       0.0927\n"
     ]
    }
   ],
   "source": [
    "import pandas as pd\n",
    "\n",
    "# 构建 dataframe\n",
    "year_se = pd.Series(year_lst, name = 'year')\n",
    "temp_se = pd.Series(temp_lst, name = 'temperature')\n",
    "result_df = pd.concat([year_se, temp_se], axis = 1)\n",
    "print result_df.head()\n",
    "\n",
    "# 保存csv\n",
    "result_df.to_csv('./files/json_to_csv.csv', index = None)"
   ]
  },
  {
   "cell_type": "markdown",
   "metadata": {},
   "source": [
    "* 写json数据"
   ]
  },
  {
   "cell_type": "code",
   "execution_count": 36,
   "metadata": {
    "collapsed": false
   },
   "outputs": [],
   "source": [
    "book_dict = [{'书名':'无声告白', '作者':'伍绮诗'}, {'书名':'我不是潘金莲', '作者':'刘震云'}, {'书名':'沉默的大多数 (王小波集)', '作者':'王小波'}]\n",
    "\n",
    "filename = './files/json_output.json'\n",
    "with open(filename, 'w') as f_obj:\n",
    "    f_obj.write(json.dumps(book_dict, ensure_ascii=False, encoding='utf-8'))"
   ]
  },
  {
   "cell_type": "code",
   "execution_count": null,
   "metadata": {
    "collapsed": true
   },
   "outputs": [],
   "source": []
  }
 ],
 "metadata": {
  "kernelspec": {
   "display_name": "Python [conda root]",
   "language": "python",
   "name": "conda-root-py"
  },
  "language_info": {
   "codemirror_mode": {
    "name": "ipython",
    "version": 2
   },
   "file_extension": ".py",
   "mimetype": "text/x-python",
   "name": "python",
   "nbconvert_exporter": "python",
   "pygments_lexer": "ipython2",
   "version": "2.7.12"
  }
 },
 "nbformat": 4,
 "nbformat_minor": 1
}
