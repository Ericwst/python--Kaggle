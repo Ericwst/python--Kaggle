{
 "cells": [
  {
   "cell_type": "markdown",
   "metadata": {},
   "source": [
    "# 爬虫简介"
   ]
  },
  {
   "cell_type": "markdown",
   "metadata": {},
   "source": [
    "* urllib2库"
   ]
  },
  {
   "cell_type": "code",
   "execution_count": null,
   "metadata": {
    "collapsed": false
   },
   "outputs": [],
   "source": [
    "# Python 3.x\n",
    "# from urllib.request import urlopen \n",
    "\n",
    "#Python 2.x\n",
    "import urllib2\n",
    "\n",
    "test_url = \"http://www.google.com\""
   ]
  },
  {
   "cell_type": "markdown",
   "metadata": {},
   "source": [
    "* URL下载模块"
   ]
  },
  {
   "cell_type": "code",
   "execution_count": null,
   "metadata": {
    "collapsed": false,
    "scrolled": true
   },
   "outputs": [],
   "source": [
    "# 通过URL下载\n",
    "response = urllib2.urlopen(test_url)\n",
    "print response.getcode() # 200 表示访问成功\n",
    "print response.read()"
   ]
  },
  {
   "cell_type": "code",
   "execution_count": null,
   "metadata": {
    "collapsed": false
   },
   "outputs": [],
   "source": [
    "# 通过Request访问\n",
    "request = urllib2.Request(test_url)\n",
    "request.add_header(\"user-agent\", \"Mozilla/5.0\")\n",
    "\n",
    "response = urllib2.urlopen(request)\n",
    "print response.getcode() # 200 表示访问成功\n",
    "print response.read()"
   ]
  },
  {
   "cell_type": "code",
   "execution_count": null,
   "metadata": {
    "collapsed": false
   },
   "outputs": [],
   "source": [
    "# 通过cookie访问\n",
    "import cookielib\n",
    "\n",
    "cookie_jar = cookielib.CookieJar()\n",
    "opener = urllib2.build_opener(urllib2.HTTPCookieProcessor(cookie_jar))\n",
    "urllib2.install_opener(opener)\n",
    "\n",
    "response = urllib2.urlopen(test_url)\n",
    "print response.getcode() # 200 表示访问成功\n",
    "print response.read()\n",
    "print cookie_jar"
   ]
  },
  {
   "cell_type": "code",
   "execution_count": null,
   "metadata": {
    "collapsed": true
   },
   "outputs": [],
   "source": []
  }
 ],
 "metadata": {
  "anaconda-cloud": {},
  "kernelspec": {
   "display_name": "Python [conda root]",
   "language": "python",
   "name": "conda-root-py"
  },
  "language_info": {
   "codemirror_mode": {
    "name": "ipython",
    "version": 2
   },
   "file_extension": ".py",
   "mimetype": "text/x-python",
   "name": "python",
   "nbconvert_exporter": "python",
   "pygments_lexer": "ipython2",
   "version": "2.7.12"
  }
 },
 "nbformat": 4,
 "nbformat_minor": 0
}
